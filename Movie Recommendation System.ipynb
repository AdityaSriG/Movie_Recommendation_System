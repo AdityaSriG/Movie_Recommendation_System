{
 "cells": [
  {
   "cell_type": "code",
   "execution_count": null,
   "id": "61f84303",
   "metadata": {},
   "outputs": [],
   "source": [
    "!pip install nltk"
   ]
  },
  {
   "cell_type": "code",
   "execution_count": null,
   "id": "16558794",
   "metadata": {},
   "outputs": [],
   "source": [
    "import re\n",
    "import ast\n",
    "import pickle\n",
    "\n",
    "import numpy as np\n",
    "import pandas as pd\n",
    "import seaborn as sns\n",
    "\n",
    "import nltk\n",
    "from nltk.stem.porter import PorterStemmer\n",
    "from nltk.corpus import stopwords\n",
    "\n",
    "from sklearn.feature_extraction.text import CountVectorizer\n",
    "from sklearn.metrics.pairwise import cosine_similarity\n",
    "\n",
    "import warnings\n",
    "warnings.filterwarnings('ignore')"
   ]
  },
  {
   "cell_type": "code",
   "execution_count": null,
   "id": "da0fe552",
   "metadata": {},
   "outputs": [],
   "source": [
    "movies = pd.read_csv('tmdb_5000_movies.csv')\n",
    "credits = pd.read_csv('tmdb_5000_credits.csv')"
   ]
  },
  {
   "cell_type": "code",
   "execution_count": null,
   "id": "e26fec9a",
   "metadata": {},
   "outputs": [],
   "source": [
    "movies.head(3)"
   ]
  },
  {
   "cell_type": "code",
   "execution_count": null,
   "id": "5a88ed6a",
   "metadata": {},
   "outputs": [],
   "source": [
    "credits.head()"
   ]
  },
  {
   "cell_type": "code",
   "execution_count": null,
   "id": "b93dfa84",
   "metadata": {},
   "outputs": [],
   "source": [
    "movies.shape"
   ]
  },
  {
   "cell_type": "code",
   "execution_count": null,
   "id": "adc1ca93",
   "metadata": {},
   "outputs": [],
   "source": [
    "credits.shape"
   ]
  },
  {
   "cell_type": "code",
   "execution_count": null,
   "id": "c2e38de4",
   "metadata": {},
   "outputs": [],
   "source": [
    "movies.columns, credits.columns"
   ]
  },
  {
   "cell_type": "code",
   "execution_count": null,
   "id": "5d354f36",
   "metadata": {},
   "outputs": [],
   "source": [
    "# Merge the Dataframes \n",
    "movies = movies.merge(credits, on='title')"
   ]
  },
  {
   "cell_type": "code",
   "execution_count": null,
   "id": "42bd99bd",
   "metadata": {},
   "outputs": [],
   "source": [
    "movies.shape"
   ]
  },
  {
   "cell_type": "markdown",
   "id": "8b076793-a1de-4386-881c-b78ed268cad6",
   "metadata": {},
   "source": [
    "## Choose the relevant features for movie recommendation\n",
    "- movie_id\n",
    "- title\n",
    "- overview\n",
    "- genres\n",
    "- keywords\n",
    "- cast\n",
    "- crew "
   ]
  },
  {
   "cell_type": "code",
   "execution_count": null,
   "id": "a98f87f9-2145-4e7e-99f8-ffdb83e89ed1",
   "metadata": {},
   "outputs": [],
   "source": [
    "movies[:2]"
   ]
  },
  {
   "cell_type": "code",
   "execution_count": null,
   "id": "b6d9c622",
   "metadata": {},
   "outputs": [],
   "source": [
    "df = movies[['movie_id','title','overview','genres','keywords','cast','crew']]\n",
    "df.head()"
   ]
  },
  {
   "cell_type": "code",
   "execution_count": null,
   "id": "1e152606-c41b-45e1-9779-3dd17f118f78",
   "metadata": {},
   "outputs": [],
   "source": [
    "df.shape"
   ]
  },
  {
   "cell_type": "markdown",
   "id": "49b89bf1-68cf-4585-a3d9-29748cbf742d",
   "metadata": {},
   "source": [
    "## Final Goal - 'movie_id' + 'title' + 'tags’"
   ]
  },
  {
   "cell_type": "code",
   "execution_count": null,
   "id": "136bcc59-04e4-42c4-8ad3-cca259126a60",
   "metadata": {},
   "outputs": [],
   "source": [
    "df['genres’]"
   ]
  },
  {
   "cell_type": "code",
   "execution_count": null,
   "id": "83b052b4-3078-4645-bf40-59fa4363b8d2",
   "metadata": {},
   "outputs": [],
   "source": [
    "df['genres'][0]"
   ]
  },
  {
   "cell_type": "code",
   "execution_count": null,
   "id": "6bef57b3",
   "metadata": {},
   "outputs": [],
   "source": [
    "import ast\n",
    "\n",
    "def fetch_genres(text):\n",
    "    l=[]\n",
    "    for i in ast.literal_eval(text):\n",
    "        l.append(i['name'])\n",
    "    return l\n",
    "\n",
    "df['genres'] = df['genres'].apply(fetch_genres)"
   ]
  },
  {
   "cell_type": "code",
   "execution_count": null,
   "id": "38fa0766",
   "metadata": {},
   "outputs": [],
   "source": [
    "def fetch_keywords(text):\n",
    "    l=[]\n",
    "    for i in ast.literal_eval(text):\n",
    "        l.append(i['name'])\n",
    "    return l\n",
    "\n",
    "df['keywords'] = df['keywords'].apply(fetch_keywords)"
   ]
  },
  {
   "cell_type": "code",
   "execution_count": null,
   "id": "22a83bd9",
   "metadata": {},
   "outputs": [],
   "source": [
    "def fetch_cast(text):\n",
    "    l=[]\n",
    "    counter = 0\n",
    "    for i in ast.literal_eval(text):\n",
    "        if counter != 3:\n",
    "            l.append(i['name'])\n",
    "            counter+=1\n",
    "        else:\n",
    "            break\n",
    "    return l\n",
    "\n",
    "df['cast'] = df['cast'].apply(fetch_cast)"
   ]
  },
  {
   "cell_type": "code",
   "execution_count": null,
   "id": "20222bfd",
   "metadata": {},
   "outputs": [],
   "source": [
    "def fetch_director(text):\n",
    "    l=[]\n",
    "    for i in ast.literal_eval(text):\n",
    "        if i['job'] == 'Director':\n",
    "            l.append(i['name'])\n",
    "    return l\n",
    "\n",
    "df['crew'] = df['crew'].apply(fetch_director)"
   ]
  },
  {
   "cell_type": "code",
   "execution_count": null,
   "id": "d69d93d5",
   "metadata": {},
   "outputs": [],
   "source": [
    "df.dropna(inplace=True)"
   ]
  },
  {
   "cell_type": "markdown",
   "id": "02cb18ad-32fa-4a6c-b77b-380ea0b4faa3",
   "metadata": {},
   "source": [
    "## Overview"
   ]
  },
  {
   "cell_type": "code",
   "execution_count": null,
   "id": "34af6176",
   "metadata": {},
   "outputs": [],
   "source": [
    "df['overview'] = df['overview'].apply(lambda x:x.split())"
   ]
  },
  {
   "cell_type": "code",
   "execution_count": null,
   "id": "aa448311",
   "metadata": {},
   "outputs": [],
   "source": [
    "df['tags'] = df['overview'] + df['genres'] + df['keywords'] + df['cast'] + df['crew']"
   ]
  },
  {
   "cell_type": "markdown",
   "id": "7edfd90d-ef97-46f4-be55-fa59dccf516c",
   "metadata": {},
   "source": [
    "## Final DataFrame"
   ]
  },
  {
   "cell_type": "code",
   "execution_count": null,
   "id": "1dd9f6db",
   "metadata": {},
   "outputs": [],
   "source": [
    "data = df[['movie_id','title','tags']]"
   ]
  },
  {
   "cell_type": "code",
   "execution_count": null,
   "id": "dc639180-033a-4e0d-a85f-03b8ee818106",
   "metadata": {},
   "outputs": [],
   "source": [
    "print(data['tags'][0])"
   ]
  },
  {
   "cell_type": "code",
   "execution_count": null,
   "id": "cef9c13f",
   "metadata": {},
   "outputs": [],
   "source": [
    "data['tags'] = data['tags'].apply(lambda x:[i.replace(' ','') for i in x])"
   ]
  },
  {
   "cell_type": "code",
   "execution_count": null,
   "id": "cdba4bfb",
   "metadata": {},
   "outputs": [],
   "source": [
    "data['tags'] = data['tags'].apply(lambda x:' '.join(x))"
   ]
  },
  {
   "cell_type": "code",
   "execution_count": null,
   "id": "91f149a8-8e05-448a-992b-764e1fabb18e",
   "metadata": {},
   "outputs": [],
   "source": [
    "print(data['tags'][0])"
   ]
  },
  {
   "cell_type": "markdown",
   "id": "924e0129-91c4-4ef7-a275-a12815bf3237",
   "metadata": {},
   "source": [
    "## NLP (Processing Textual data)\n",
    "- Lower Case\n",
    "- Stemming\n",
    "- Tokenization\n",
    "- Stopwords Removal"
   ]
  },
  {
   "cell_type": "code",
   "execution_count": null,
   "id": "a3b080ca-748c-4ba5-b385-e1ff2a197708",
   "metadata": {},
   "outputs": [],
   "source": [
    "data[:5]"
   ]
  },
  {
   "cell_type": "code",
   "execution_count": null,
   "id": "32e0d96f-9b11-4955-9bc1-7951d42b14c4",
   "metadata": {},
   "outputs": [],
   "source": [
    "data['tags']"
   ]
  },
  {
   "cell_type": "markdown",
   "id": "b2331820-f07e-4378-8f03-d1e2b89cc3e3",
   "metadata": {},
   "source": [
    "#### Text Preprocessing"
   ]
  },
  {
   "cell_type": "code",
   "execution_count": null,
   "id": "4877077c",
   "metadata": {},
   "outputs": [],
   "source": [
    "ps = PorterStemmer()\n",
    "\n",
    "def stem(text):\n",
    "    y=[]\n",
    "    for i in text.split():\n",
    "        lower = i.lower()\n",
    "        y.append(ps.stem(lower))\n",
    "    return ' '.join(y)\n",
    "\n",
    "data['tags'] = data['tags'].apply(stem)"
   ]
  },
  {
   "cell_type": "code",
   "execution_count": null,
   "id": "2e384845-5d4d-4641-8d01-379234ed897e",
   "metadata": {},
   "outputs": [],
   "source": [
    "data['tags']"
   ]
  },
  {
   "cell_type": "code",
   "execution_count": null,
   "id": "0f96f524-56b0-4979-84ce-4aaf7b8f5d6f",
   "metadata": {},
   "outputs": [],
   "source": [
    "data"
   ]
  },
  {
   "cell_type": "markdown",
   "id": "797b5994-a635-4aec-ae96-31c29b07b76c",
   "metadata": {},
   "source": [
    "#### BOW (Bag of Words)"
   ]
  },
  {
   "cell_type": "code",
   "execution_count": null,
   "id": "e856c24c",
   "metadata": {},
   "outputs": [],
   "source": [
    "cv = CountVectorizer(max_features=5000, stop_words='english')"
   ]
  },
  {
   "cell_type": "code",
   "execution_count": null,
   "id": "a8f015be-80e0-4787-9217-60842dde4c28",
   "metadata": {},
   "outputs": [],
   "source": [
    "vectors = cv.fit_transform(data['tags']).toarray()"
   ]
  },
  {
   "cell_type": "code",
   "execution_count": null,
   "id": "f832e314-8731-4c2b-a4bb-43472a54947f",
   "metadata": {},
   "outputs": [],
   "source": [
    "for i in cv.get_feature_names_out():\n",
    "    print(i)"
   ]
  },
  {
   "cell_type": "markdown",
   "id": "e6b4786b-8d03-4f96-8cae-87add365a994",
   "metadata": {},
   "source": [
    "#### Cosine Similarity"
   ]
  },
  {
   "cell_type": "code",
   "execution_count": null,
   "id": "35ee208d-8d90-411c-8e66-d8f5b9ef0dcd",
   "metadata": {},
   "outputs": [],
   "source": [
    "vectors"
   ]
  },
  {
   "cell_type": "code",
   "execution_count": null,
   "id": "784e0253",
   "metadata": {},
   "outputs": [],
   "source": [
    "similarity = cosine_similarity(vectors)\n",
    "similarity"
   ]
  },
  {
   "cell_type": "code",
   "execution_count": null,
   "id": "29c3e1fc-0009-4277-9419-d887f9d78cbe",
   "metadata": {},
   "outputs": [],
   "source": [
    "list(enumerate(similarity[0])"
   ]
  },
  {
   "cell_type": "code",
   "execution_count": null,
   "id": "677a0cf0-cf25-496f-94ba-17905cd38fe3",
   "metadata": {},
   "outputs": [],
   "source": [
    "sorted(list(enumerate(similarity[0])), reverse=True, key=lambda x: x[1])[1:10]"
   ]
  },
  {
   "cell_type": "markdown",
   "id": "37cbda9e-2567-4f9e-9c3e-5c2b25a0b057",
   "metadata": {},
   "source": [
    "## Final Function"
   ]
  },
  {
   "cell_type": "code",
   "execution_count": null,
   "id": "0ff8ea17",
   "metadata": {},
   "outputs": [],
   "source": [
    "def recommend(movie):\n",
    "    movie_index = data[data['title'] == movie].index[0]\n",
    "    distances = similarity[movie_index]\n",
    "    movies_list = sorted(list(enumerate(distances)),reverse=True,key=lambda x:x[1])[1:6]\n",
    "    for i in movies_list:\n",
    "        print(data.iloc[i[0]].title)"
   ]
  },
  {
   "cell_type": "code",
   "execution_count": null,
   "id": "54fdd098",
   "metadata": {},
   "outputs": [],
   "source": [
    "recommend('Avatar')"
   ]
  },
  {
   "cell_type": "code",
   "execution_count": null,
   "id": "a67ed484-2cde-4a9a-b282-4fe5a2402e65",
   "metadata": {},
   "outputs": [],
   "source": [
    "recommend('Iron Man')"
   ]
  }
 ],
 "metadata": {
  "kernelspec": {
   "display_name": "Python 3 (ipykernel)",
   "language": "python",
   "name": "python3"
  },
  "language_info": {
   "codemirror_mode": {
    "name": "ipython",
    "version": 3
   },
   "file_extension": ".py",
   "mimetype": "text/x-python",
   "name": "python",
   "nbconvert_exporter": "python",
   "pygments_lexer": "ipython3",
   "version": "3.13.5"
  }
 },
 "nbformat": 4,
 "nbformat_minor": 5
}
